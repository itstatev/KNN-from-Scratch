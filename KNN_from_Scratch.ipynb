{
 "cells": [
  {
   "cell_type": "code",
   "execution_count": 5,
   "id": "humanitarian-stand",
   "metadata": {},
   "outputs": [],
   "source": [
    "import numpy as np\n",
    "from collections import Counter"
   ]
  },
  {
   "cell_type": "code",
   "execution_count": 2,
   "id": "tough-textbook",
   "metadata": {},
   "outputs": [],
   "source": [
    "def euclidean_distance(a,b):\n",
    "    d = np.sqrt(np.sum(a,b) ** 2 )\n",
    "    return d"
   ]
  },
  {
   "cell_type": "code",
   "execution_count": 1,
   "id": "prompt-refund",
   "metadata": {},
   "outputs": [],
   "source": [
    "class KNN:\n",
    "    def __init__ (self, k):\n",
    "        self.k = k\n",
    "    \n",
    "    def fit(X, y):                                               # we store the whole dataset, no learning required \n",
    "        selx.X_train = X\n",
    "        self.y_train = y\n",
    "    \n",
    "    def predict_help(self, x):\n",
    "        distance = [euclidean_distance(x, xi) for xi in X_train] # measuring distances between the given x and each data point in the \n",
    "                                                                 # dataset\n",
    "        k_index = np.argsort(distance)[:self.k]                  # sorting the distances  \n",
    "        labels = [self.y_train[i] for i in k_index]              # get k nearest labels\n",
    "        most_common = Counter(labels).most_common()              # majority voting\n",
    "        return most_common[0][0]                                 # we need the first item in the tuple, because it shows the most common \n",
    "                                                                 # class label\n",
    "    def predict(self,X):\n",
    "        pred = [predict_help(x) for x in X]\n",
    "        return np.array(pred)"
   ]
  }
 ],
 "metadata": {
  "kernelspec": {
   "display_name": "Python 3",
   "language": "python",
   "name": "python3"
  },
  "language_info": {
   "codemirror_mode": {
    "name": "ipython",
    "version": 3
   },
   "file_extension": ".py",
   "mimetype": "text/x-python",
   "name": "python",
   "nbconvert_exporter": "python",
   "pygments_lexer": "ipython3",
   "version": "3.9.5"
  }
 },
 "nbformat": 4,
 "nbformat_minor": 5
}
